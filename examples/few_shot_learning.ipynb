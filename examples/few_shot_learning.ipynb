{
 "cells": [
  {
   "cell_type": "code",
   "execution_count": 1,
   "id": "28521d8c-042a-4dd0-a306-987c3a3cd23c",
   "metadata": {},
   "outputs": [],
   "source": [
    "import os\n",
    "os.chdir('..')"
   ]
  },
  {
   "cell_type": "code",
   "execution_count": 2,
   "id": "8d4eaefc-d56d-4377-8c19-19d0d3803193",
   "metadata": {},
   "outputs": [],
   "source": [
    "from models.bailian import LLM\n",
    "\n",
    "# export API_KEY='xxx'\n",
    "llm = LLM(api_key=os.environ.get('API_KEY'))"
   ]
  },
  {
   "cell_type": "code",
   "execution_count": 3,
   "id": "2da56089-2e01-48b2-95f8-b8b6be7581d2",
   "metadata": {},
   "outputs": [],
   "source": [
    "os.environ['LANG'] = 'ch'\n",
    "from templates.make_prompts import *"
   ]
  },
  {
   "cell_type": "code",
   "execution_count": 4,
   "id": "f10b0648-577f-4f5e-bc50-922aa23555fa",
   "metadata": {},
   "outputs": [
    {
     "name": "stdout",
     "output_type": "stream",
     "text": [
      "\n",
      "现在你扮演一名经验丰富的深度学习训练师。请尽你所能去回答问题。\n",
      "现在需要完成一个\"构建意图识别训练集\"的任务，这个关于这个任务的详细描述：\n",
      "补充\"关于某种疾病的定义\"的问题分类，要求问句的文法尽量多变，尽量口语化，构造的句子有长有短，不要出现重复句式。至少列出10条。\n",
      "语料模板中，疾病名称用[disease]代替，每个句子以`<definition>`开头。\n",
      "\n",
      "这是一些样例，样例文本使用`<example>`和`</example>`包裹起来。\n",
      "\n",
      "<example>\n",
      "<definition>什么是[disease]?\n",
      "<definition>[disease]是什么意思?\n",
      "<definition>能解释一下[disease]这个病吗?\n",
      "</example>\n",
      "\n",
      "开始!\n",
      "\n",
      "\n",
      "----\n"
     ]
    },
    {
     "name": "stderr",
     "output_type": "stream",
     "text": [
      "/Library/Frameworks/Python.framework/Versions/3.9/lib/python3.9/site-packages/langchain_core/_api/deprecation.py:119: LangChainDeprecationWarning: The method `BaseLLM.__call__` was deprecated in langchain-core 0.1.7 and will be removed in 0.3.0. Use invoke instead.\n",
      "  warn_deprecated(\n"
     ]
    },
    {
     "name": "stdout",
     "output_type": "stream",
     "text": [
      "<definition>我听说过[disease]，但具体是啥病呢？\n",
      "<definition>能否给我科普一下[disease]的定义？\n",
      "<definition>有人能说说[disease]到底是种什么病吗？\n",
      "<definition>对于[disease]，它的医学定义是怎样的？\n",
      "<definition>我想了解一下[disease]是指什么样的健康状况？\n",
      "<definition>能简单描述一下[disease]的病症特点吗？\n",
      "<definition>初学者求教，[disease]究竟是怎么界定的？\n",
      "<definition>能否用通俗的话讲讲[disease]是怎么回事？\n",
      "<definition>关于[disease]，它在医学上是如何被定义的？\n",
      "<definition>对于[disease]这种病，它的本质是什么？\n"
     ]
    }
   ],
   "source": [
    "prompt = make_skeleton(\n",
    "    additional_prompts=[\n",
    "        make_role('经验丰富的深度学习训练师'),\n",
    "        make_encourage(),\n",
    "        make_task(\n",
    "            task='构建意图识别训练集',\n",
    "            desc='补充\"关于某种疾病的定义\"的问题分类，要求问句的文法尽量多变，尽量口语化，构造的句子有长有短，不要出现重复句式。至少列出10条。'\n",
    "                 '\\n语料模板中，疾病名称用[disease]代替，每个句子以`<definition>`开头。\\n',\n",
    "        ),\n",
    "        make_examples([\n",
    "            '<definition>什么是[disease]?',\n",
    "            '<definition>[disease]是什么意思?',\n",
    "            '<definition>能解释一下[disease]这个病吗?'\n",
    "        ]),\n",
    "    ]\n",
    ")\n",
    "\n",
    "print(prompt)\n",
    "print('----')\n",
    "content = llm(prompt)\n",
    "print(content)"
   ]
  },
  {
   "cell_type": "code",
   "execution_count": 5,
   "id": "17eea64f-1bb2-4be0-bbdb-814a4e8d72bc",
   "metadata": {},
   "outputs": [
    {
     "name": "stdout",
     "output_type": "stream",
     "text": [
      "\n",
      "现在你扮演一名医生。请尽你所能去回答问题。\n",
      "现在需要完成一个\"意图识别\"的任务，这个关于这个任务的详细描述：\n",
      "病人会询问一些问题，请了解病人问这个问题的目的，识别出病人的潜在意图。\n",
      "这是一些可选的分类项:\n",
      "[\"疾病定义\", \"疾病病因\", \"治疗方法\"]\n",
      "\n",
      "这是一些样例，样例文本使用`<example>`和`</example>`包裹起来。\n",
      "\n",
      "<example>\n",
      "\n",
      "Question: 感冒是什么？\n",
      "Answer: 疾病定义\n",
      "\n",
      "Question: 为什么会引起感冒？\n",
      "Answer: 疾病病因\n",
      "\n",
      "Question: 感冒要吃什么药？\n",
      "Answer: 治疗方法\n",
      "</example>\n",
      "\n",
      "开始!\n",
      "\n",
      "Question: 怎么突然就失眠了？\n",
      "\n",
      "\n",
      "----\n",
      "疾病病因\n"
     ]
    }
   ],
   "source": [
    "prompt = make_skeleton(\n",
    "    query=make_query('怎么突然就失眠了？'),\n",
    "    additional_prompts=[\n",
    "        make_role('医生'),\n",
    "        make_encourage(),\n",
    "        make_task(\n",
    "            task='意图识别',\n",
    "            desc='病人会询问一些问题，请了解病人问这个问题的目的，识别出病人的潜在意图。'\n",
    "        ),\n",
    "        make_access_cls(['疾病定义', '疾病病因', '治疗方法']),\n",
    "        make_examples([\n",
    "            ['感冒是什么？', '疾病定义'],\n",
    "            ['为什么会引起感冒？', '疾病病因'],\n",
    "            ['感冒要吃什么药？', '治疗方法']\n",
    "        ]),\n",
    "    ]\n",
    ")\n",
    "\n",
    "print(prompt)\n",
    "print('----')\n",
    "content = llm(prompt)\n",
    "print(content)"
   ]
  }
 ],
 "metadata": {
  "kernelspec": {
   "display_name": "Python 3 (ipykernel)",
   "language": "python",
   "name": "python3"
  },
  "language_info": {
   "codemirror_mode": {
    "name": "ipython",
    "version": 3
   },
   "file_extension": ".py",
   "mimetype": "text/x-python",
   "name": "python",
   "nbconvert_exporter": "python",
   "pygments_lexer": "ipython3",
   "version": "3.9.10"
  }
 },
 "nbformat": 4,
 "nbformat_minor": 5
}
